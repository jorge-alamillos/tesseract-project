{
 "cells": [
  {
   "cell_type": "code",
   "execution_count": 60,
   "metadata": {
    "scrolled": true
   },
   "outputs": [],
   "source": [
    "from PIL import Image \n",
    "import pytesseract\n",
    "import sys \n",
    "from pdf2image import convert_from_path \n",
    "import os \n",
    "import pandas as pd\n",
    "import re"
   ]
  },
  {
   "cell_type": "code",
   "execution_count": 61,
   "metadata": {},
   "outputs": [],
   "source": [
    "PDF_file = \"ZIP 04/N_098_2.pdf\""
   ]
  },
  {
   "cell_type": "code",
   "execution_count": 62,
   "metadata": {
    "scrolled": true
   },
   "outputs": [],
   "source": [
    "pages = convert_from_path(PDF_file,dpi=300) "
   ]
  },
  {
   "cell_type": "code",
   "execution_count": 63,
   "metadata": {},
   "outputs": [],
   "source": [
    "image_counter = 1\n",
    "for page in pages: \n",
    "    filename = \"page_\"+str(image_counter)+\".jpg\"\n",
    "    page.save(filename, 'JPEG') \n",
    "    image_counter = image_counter + 1"
   ]
  },
  {
   "cell_type": "code",
   "execution_count": 64,
   "metadata": {},
   "outputs": [],
   "source": [
    "filelimit = image_counter-1\n",
    "outfile = \"out_text.txt\"\n",
    "f = open(outfile, \"a\")"
   ]
  },
  {
   "cell_type": "code",
   "execution_count": 65,
   "metadata": {},
   "outputs": [],
   "source": [
    "for i in range(1, filelimit + 1): \n",
    "    filename = \"page_\"+str(i)+\".jpg\"\n",
    "    text = str(((pytesseract.image_to_string(Image.open(filename))))) \n",
    "    text = text.replace('-\\n', '')     \n",
    "    f.write(text) \n",
    "  \n",
    "\n",
    "f.close() "
   ]
  },
  {
   "cell_type": "code",
   "execution_count": 34,
   "metadata": {},
   "outputs": [],
   "source": [
    "excel = pd.read_excel(\"80cea049-0cec-e811-8e6e-74e5f9a38c06.xlsm\", sheet_name=\"Testing\", header=[9], usecols=\"B:BT\",dtype=\"str\")"
   ]
  },
  {
   "cell_type": "code",
   "execution_count": 36,
   "metadata": {
    "scrolled": true
   },
   "outputs": [
    {
     "data": {
      "text/html": [
       "<div>\n",
       "<style scoped>\n",
       "    .dataframe tbody tr th:only-of-type {\n",
       "        vertical-align: middle;\n",
       "    }\n",
       "\n",
       "    .dataframe tbody tr th {\n",
       "        vertical-align: top;\n",
       "    }\n",
       "\n",
       "    .dataframe thead th {\n",
       "        text-align: right;\n",
       "    }\n",
       "</style>\n",
       "<table border=\"1\" class=\"dataframe\">\n",
       "  <thead>\n",
       "    <tr style=\"text-align: right;\">\n",
       "      <th></th>\n",
       "      <th>Número de referencia del documento</th>\n",
       "      <th>ZIP INFO</th>\n",
       "      <th>Nº Préstamo</th>\n",
       "      <th>Finalidad</th>\n",
       "      <th>Nif/DNI</th>\n",
       "      <th>ENTIDAD CEDENTE</th>\n",
       "      <th>Nº CNAE</th>\n",
       "      <th>Actividad Económica</th>\n",
       "      <th>Naturaleza del deudor cedido</th>\n",
       "      <th>Nombre/Razón Social</th>\n",
       "      <th>...</th>\n",
       "      <th>LTV inicial S/PWC</th>\n",
       "      <th>Relación “Saldo actual del préstamo/valor de tasación inicial”</th>\n",
       "      <th>Valor tasación actualizado</th>\n",
       "      <th>Fecha tasación actualizada</th>\n",
       "      <th>Valor de tasación actualizado de los inmuebles</th>\n",
       "      <th>Comentarios Valor de Tasación actual</th>\n",
       "      <th>LTV actual S/PWC</th>\n",
       "      <th>Relación “Saldo actual del préstamo/valor de tasación actual”</th>\n",
       "      <th>Método de tasación</th>\n",
       "      <th>Pestaña tasaciones?</th>\n",
       "    </tr>\n",
       "  </thead>\n",
       "  <tbody>\n",
       "    <tr>\n",
       "      <th>69</th>\n",
       "      <td>98</td>\n",
       "      <td>ZIP 04</td>\n",
       "      <td>004946351030600836</td>\n",
       "      <td>Préstamo Hipotecario</td>\n",
       "      <td>B25501446</td>\n",
       "      <td>Banco Santander, S.A.</td>\n",
       "      <td>7490</td>\n",
       "      <td>Otras actividades profesionales, científicas y...</td>\n",
       "      <td>a</td>\n",
       "      <td>DINUXA S.L.</td>\n",
       "      <td>...</td>\n",
       "      <td>0.5843692606590472</td>\n",
       "      <td>a</td>\n",
       "      <td>263532</td>\n",
       "      <td>42849</td>\n",
       "      <td>a</td>\n",
       "      <td>NaN</td>\n",
       "      <td>0.5403191263300092</td>\n",
       "      <td>a</td>\n",
       "      <td>THI</td>\n",
       "      <td>NaN</td>\n",
       "    </tr>\n",
       "  </tbody>\n",
       "</table>\n",
       "<p>1 rows × 71 columns</p>\n",
       "</div>"
      ],
      "text/plain": [
       "   Número de referencia del documento ZIP INFO         Nº Préstamo  \\\n",
       "69                                 98   ZIP 04  004946351030600836   \n",
       "\n",
       "               Finalidad    Nif/DNI        ENTIDAD CEDENTE Nº CNAE  \\\n",
       "69  Préstamo Hipotecario  B25501446  Banco Santander, S.A.    7490   \n",
       "\n",
       "                                  Actividad Económica  \\\n",
       "69  Otras actividades profesionales, científicas y...   \n",
       "\n",
       "   Naturaleza del deudor cedido Nombre/Razón Social  ...   LTV inicial S/PWC  \\\n",
       "69                            a         DINUXA S.L.  ...  0.5843692606590472   \n",
       "\n",
       "   Relación “Saldo actual del préstamo/valor de tasación inicial”  \\\n",
       "69                                                  a               \n",
       "\n",
       "   Valor tasación actualizado Fecha tasación actualizada  \\\n",
       "69                     263532                      42849   \n",
       "\n",
       "   Valor de tasación actualizado de los inmuebles  \\\n",
       "69                                              a   \n",
       "\n",
       "   Comentarios Valor de Tasación actual    LTV actual S/PWC  \\\n",
       "69                                  NaN  0.5403191263300092   \n",
       "\n",
       "   Relación “Saldo actual del préstamo/valor de tasación actual”  \\\n",
       "69                                                  a              \n",
       "\n",
       "   Método de tasación Pestaña tasaciones?  \n",
       "69                THI                 NaN  \n",
       "\n",
       "[1 rows x 71 columns]"
      ]
     },
     "execution_count": 36,
     "metadata": {},
     "output_type": "execute_result"
    }
   ],
   "source": [
    "excel[excel[\"Número de referencia del documento\"]==\"98\"]"
   ]
  },
  {
   "cell_type": "code",
   "execution_count": 72,
   "metadata": {},
   "outputs": [],
   "source": [
    "cta = excel[excel[\"Número de referencia del documento\"]==\"98\"][\"Nif/DNI\"].to_string(index=False).strip()"
   ]
  },
  {
   "cell_type": "code",
   "execution_count": 73,
   "metadata": {
    "scrolled": true
   },
   "outputs": [
    {
     "data": {
      "text/plain": [
       "'B25501446'"
      ]
     },
     "execution_count": 73,
     "metadata": {},
     "output_type": "execute_result"
    }
   ],
   "source": [
    "cta"
   ]
  },
  {
   "cell_type": "code",
   "execution_count": 66,
   "metadata": {},
   "outputs": [],
   "source": [
    "for i, line in enumerate(open('out_text.txt')):\n",
    "    for match in re.finditer(pattern, line):\n",
    "        print ('Found on line %s: %s' % (i+1, match.group()))"
   ]
  },
  {
   "cell_type": "code",
   "execution_count": 67,
   "metadata": {},
   "outputs": [],
   "source": [
    "text = open(\"out_text.txt\",\"rt\")\n",
    "contents = text.read()  \n",
    "text.close()"
   ]
  },
  {
   "cell_type": "code",
   "execution_count": 74,
   "metadata": {},
   "outputs": [
    {
     "data": {
      "text/plain": [
       "0"
      ]
     },
     "execution_count": 74,
     "metadata": {},
     "output_type": "execute_result"
    }
   ],
   "source": [
    "contents.find(\"\")"
   ]
  },
  {
   "cell_type": "code",
   "execution_count": null,
   "metadata": {},
   "outputs": [],
   "source": []
  }
 ],
 "metadata": {
  "kernelspec": {
   "display_name": "Python 3.8.2 64-bit",
   "language": "python",
   "name": "python38264bit3a22b570bd23458b8e92266f1aba7923"
  },
  "language_info": {
   "codemirror_mode": {
    "name": "ipython",
    "version": 3
   },
   "file_extension": ".py",
   "mimetype": "text/x-python",
   "name": "python",
   "nbconvert_exporter": "python",
   "pygments_lexer": "ipython3",
   "version": "3.8.5"
  }
 },
 "nbformat": 4,
 "nbformat_minor": 4
}
